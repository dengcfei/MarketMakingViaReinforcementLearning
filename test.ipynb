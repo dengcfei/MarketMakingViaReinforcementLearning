{
 "cells": [
  {
   "cell_type": "code",
   "execution_count": 29,
   "id": "acccec06-3599-4cce-a3c8-03070d097529",
   "metadata": {},
   "outputs": [],
   "source": [
    "import numpy as np\n",
    "import pandas as pd"
   ]
  },
  {
   "cell_type": "code",
   "execution_count": 2,
   "id": "e2f4a18c-669e-4353-8550-76ec70d36bde",
   "metadata": {},
   "outputs": [
    {
     "data": {
      "text/plain": [
       "array([[1., 1., 1.],\n",
       "       [1., 1., 1.],\n",
       "       [1., 1., 1.],\n",
       "       [1., 1., 1.],\n",
       "       [1., 1., 1.],\n",
       "       [1., 1., 1.],\n",
       "       [1., 1., 1.],\n",
       "       [1., 1., 1.],\n",
       "       [1., 1., 1.],\n",
       "       [1., 1., 1.]])"
      ]
     },
     "execution_count": 2,
     "metadata": {},
     "output_type": "execute_result"
    }
   ],
   "source": [
    "np.ones((10,3))"
   ]
  },
  {
   "cell_type": "code",
   "execution_count": 7,
   "id": "96ded1e1-d280-4b5f-97b3-117990b31d41",
   "metadata": {},
   "outputs": [],
   "source": [
    "a1 = np.arange(1,11,1)"
   ]
  },
  {
   "cell_type": "code",
   "execution_count": 14,
   "id": "d80984e2-c9fd-4f67-b1f4-a44eab3e53d2",
   "metadata": {},
   "outputs": [
    {
     "data": {
      "text/plain": [
       "array([ 1,  2,  3,  4,  5,  6,  7,  8,  9, 10])"
      ]
     },
     "execution_count": 14,
     "metadata": {},
     "output_type": "execute_result"
    }
   ],
   "source": [
    "a1"
   ]
  },
  {
   "cell_type": "code",
   "execution_count": 22,
   "id": "bac1f338-6929-4ce2-897f-19bc1a6991e0",
   "metadata": {},
   "outputs": [
    {
     "data": {
      "text/plain": [
       "(array([ 2,  4,  6,  8, 10]), array([1, 3, 5, 7, 9]))"
      ]
     },
     "execution_count": 22,
     "metadata": {},
     "output_type": "execute_result"
    }
   ],
   "source": [
    "a1[1:11:2], a1[0:11:2]"
   ]
  },
  {
   "cell_type": "code",
   "execution_count": 16,
   "id": "f136f0e8-1b70-47f6-a5f4-f2dd60b83b65",
   "metadata": {},
   "outputs": [
    {
     "name": "stdout",
     "output_type": "stream",
     "text": [
      "10\n",
      "9\n",
      "8\n",
      "7\n",
      "6\n",
      "5\n",
      "4\n",
      "3\n",
      "2\n",
      "1\n"
     ]
    }
   ],
   "source": [
    "for i in np.arange(1,11,1):\n",
    "    print(a1[-i])"
   ]
  },
  {
   "cell_type": "code",
   "execution_count": 24,
   "id": "057bc5f0-4348-4681-a159-9f44224f2f46",
   "metadata": {},
   "outputs": [
    {
     "data": {
      "text/plain": [
       "array([ 6,  7,  8,  9, 10])"
      ]
     },
     "execution_count": 24,
     "metadata": {},
     "output_type": "execute_result"
    }
   ],
   "source": [
    "a1[a1>5]"
   ]
  },
  {
   "cell_type": "code",
   "execution_count": 26,
   "id": "3c0e5209-1a60-4d3a-8d9c-19101c27a5c2",
   "metadata": {},
   "outputs": [
    {
     "ename": "SyntaxError",
     "evalue": "invalid syntax (687314125.py, line 1)",
     "output_type": "error",
     "traceback": [
      "\u001b[0;36m  Cell \u001b[0;32mIn[26], line 1\u001b[0;36m\u001b[0m\n\u001b[0;31m    a1[1;-6;-1]\u001b[0m\n\u001b[0m        ^\u001b[0m\n\u001b[0;31mSyntaxError\u001b[0m\u001b[0;31m:\u001b[0m invalid syntax\n"
     ]
    }
   ],
   "source": [
    "a1[1;-6;-1]"
   ]
  },
  {
   "cell_type": "code",
   "execution_count": 27,
   "id": "83558c79-a5ca-4fa3-936a-fa3f68b32a05",
   "metadata": {},
   "outputs": [],
   "source": [
    "my_dict={\"anna\":1, \"tom\":2}"
   ]
  },
  {
   "cell_type": "code",
   "execution_count": 32,
   "id": "7fbd1520-b7d4-492f-8c31-f3473e20b934",
   "metadata": {},
   "outputs": [],
   "source": [
    "my_series = pd.Series(my_dict)"
   ]
  },
  {
   "cell_type": "code",
   "execution_count": 33,
   "id": "8be4995e-6d88-43d7-9f7b-c751dea28b06",
   "metadata": {},
   "outputs": [
    {
     "data": {
      "text/plain": [
       "anna    1\n",
       "tom     2\n",
       "dtype: int64"
      ]
     },
     "execution_count": 33,
     "metadata": {},
     "output_type": "execute_result"
    }
   ],
   "source": [
    "my_series"
   ]
  },
  {
   "cell_type": "code",
   "execution_count": 36,
   "id": "0fb1fb95-dea7-4214-a70f-9ec4eaa34321",
   "metadata": {},
   "outputs": [
    {
     "data": {
      "text/html": [
       "<div>\n",
       "<style scoped>\n",
       "    .dataframe tbody tr th:only-of-type {\n",
       "        vertical-align: middle;\n",
       "    }\n",
       "\n",
       "    .dataframe tbody tr th {\n",
       "        vertical-align: top;\n",
       "    }\n",
       "\n",
       "    .dataframe thead th {\n",
       "        text-align: right;\n",
       "    }\n",
       "</style>\n",
       "<table border=\"1\" class=\"dataframe\">\n",
       "  <thead>\n",
       "    <tr style=\"text-align: right;\">\n",
       "      <th></th>\n",
       "      <th>age</th>\n",
       "    </tr>\n",
       "  </thead>\n",
       "  <tbody>\n",
       "    <tr>\n",
       "      <th>anna</th>\n",
       "      <td>1</td>\n",
       "    </tr>\n",
       "    <tr>\n",
       "      <th>tom</th>\n",
       "      <td>2</td>\n",
       "    </tr>\n",
       "  </tbody>\n",
       "</table>\n",
       "</div>"
      ],
      "text/plain": [
       "      age\n",
       "anna    1\n",
       "tom     2"
      ]
     },
     "execution_count": 36,
     "metadata": {},
     "output_type": "execute_result"
    }
   ],
   "source": [
    "pd.DataFrame({\"age\": my_series})"
   ]
  },
  {
   "cell_type": "code",
   "execution_count": 54,
   "id": "ef20e07e-6551-4350-b9ee-7bd020685bc8",
   "metadata": {},
   "outputs": [
    {
     "data": {
      "text/html": [
       "<div>\n",
       "<style scoped>\n",
       "    .dataframe tbody tr th:only-of-type {\n",
       "        vertical-align: middle;\n",
       "    }\n",
       "\n",
       "    .dataframe tbody tr th {\n",
       "        vertical-align: top;\n",
       "    }\n",
       "\n",
       "    .dataframe thead th {\n",
       "        text-align: right;\n",
       "    }\n",
       "</style>\n",
       "<table border=\"1\" class=\"dataframe\">\n",
       "  <thead>\n",
       "    <tr style=\"text-align: right;\">\n",
       "      <th></th>\n",
       "      <th>c1</th>\n",
       "      <th>c2</th>\n",
       "      <th>c3</th>\n",
       "      <th>c4</th>\n",
       "      <th>c5</th>\n",
       "      <th>c6</th>\n",
       "      <th>c7</th>\n",
       "      <th>c8</th>\n",
       "    </tr>\n",
       "  </thead>\n",
       "  <tbody>\n",
       "    <tr>\n",
       "      <th>r1</th>\n",
       "      <td>0</td>\n",
       "      <td>1</td>\n",
       "      <td>2</td>\n",
       "      <td>3</td>\n",
       "      <td>4</td>\n",
       "      <td>5</td>\n",
       "      <td>6</td>\n",
       "      <td>7</td>\n",
       "    </tr>\n",
       "    <tr>\n",
       "      <th>r2</th>\n",
       "      <td>8</td>\n",
       "      <td>9</td>\n",
       "      <td>10</td>\n",
       "      <td>11</td>\n",
       "      <td>12</td>\n",
       "      <td>13</td>\n",
       "      <td>14</td>\n",
       "      <td>15</td>\n",
       "    </tr>\n",
       "  </tbody>\n",
       "</table>\n",
       "</div>"
      ],
      "text/plain": [
       "    c1  c2  c3  c4  c5  c6  c7  c8\n",
       "r1   0   1   2   3   4   5   6   7\n",
       "r2   8   9  10  11  12  13  14  15"
      ]
     },
     "execution_count": 54,
     "metadata": {},
     "output_type": "execute_result"
    }
   ],
   "source": [
    "df=pd.DataFrame(np.arange(16).reshape(2,8), index=['r1','r2'], columns=['c1','c2','c3','c4','c5','c6','c7','c8'])\n",
    "df"
   ]
  },
  {
   "cell_type": "code",
   "execution_count": 44,
   "id": "c04c3488-7931-4c55-8461-f3fd56dd7345",
   "metadata": {},
   "outputs": [
    {
     "data": {
      "text/plain": [
       "r1    0\n",
       "r2    8\n",
       "Name: c1, dtype: int64"
      ]
     },
     "execution_count": 44,
     "metadata": {},
     "output_type": "execute_result"
    }
   ],
   "source": [
    "#get column by column name\n",
    "df['c1']"
   ]
  },
  {
   "cell_type": "code",
   "execution_count": 52,
   "id": "6ce0df18-1b04-4df5-bd27-4f2f7d25ab8d",
   "metadata": {},
   "outputs": [
    {
     "data": {
      "text/plain": [
       "8"
      ]
     },
     "execution_count": 52,
     "metadata": {},
     "output_type": "execute_result"
    }
   ],
   "source": [
    "#get cell by column and then row index \n",
    "df['c1']['r2']"
   ]
  },
  {
   "cell_type": "code",
   "execution_count": 49,
   "id": "e0b2b619-cf6f-44b3-8e98-32482712c1cc",
   "metadata": {},
   "outputs": [
    {
     "data": {
      "text/plain": [
       "c1     8\n",
       "c2     9\n",
       "c3    10\n",
       "c4    11\n",
       "c5    12\n",
       "c6    13\n",
       "c7    14\n",
       "c8    15\n",
       "Name: r2, dtype: int64"
      ]
     },
     "execution_count": 49,
     "metadata": {},
     "output_type": "execute_result"
    }
   ],
   "source": [
    "#get row by index\n",
    "df.iloc[1]"
   ]
  },
  {
   "cell_type": "code",
   "execution_count": 51,
   "id": "7a809960-8af8-473e-a9e9-28b238ea3af7",
   "metadata": {},
   "outputs": [
    {
     "data": {
      "text/plain": [
       "c1    0\n",
       "c2    1\n",
       "c3    2\n",
       "c4    3\n",
       "c5    4\n",
       "c6    5\n",
       "c7    6\n",
       "c8    7\n",
       "Name: r1, dtype: int64"
      ]
     },
     "execution_count": 51,
     "metadata": {},
     "output_type": "execute_result"
    }
   ],
   "source": [
    "#get row by index\n",
    "df.loc['r1']"
   ]
  },
  {
   "cell_type": "code",
   "execution_count": 60,
   "id": "abab733c-b4d4-4556-b5ba-a472a5804426",
   "metadata": {},
   "outputs": [
    {
     "data": {
      "text/html": [
       "<div>\n",
       "<style scoped>\n",
       "    .dataframe tbody tr th:only-of-type {\n",
       "        vertical-align: middle;\n",
       "    }\n",
       "\n",
       "    .dataframe tbody tr th {\n",
       "        vertical-align: top;\n",
       "    }\n",
       "\n",
       "    .dataframe thead th {\n",
       "        text-align: right;\n",
       "    }\n",
       "</style>\n",
       "<table border=\"1\" class=\"dataframe\">\n",
       "  <thead>\n",
       "    <tr style=\"text-align: right;\">\n",
       "      <th></th>\n",
       "      <th>c1</th>\n",
       "      <th>c2</th>\n",
       "      <th>c3</th>\n",
       "      <th>c4</th>\n",
       "      <th>c5</th>\n",
       "      <th>c6</th>\n",
       "      <th>c7</th>\n",
       "      <th>c8</th>\n",
       "    </tr>\n",
       "  </thead>\n",
       "  <tbody>\n",
       "    <tr>\n",
       "      <th>r1</th>\n",
       "      <td>False</td>\n",
       "      <td>False</td>\n",
       "      <td>False</td>\n",
       "      <td>False</td>\n",
       "      <td>False</td>\n",
       "      <td>False</td>\n",
       "      <td>False</td>\n",
       "      <td>False</td>\n",
       "    </tr>\n",
       "    <tr>\n",
       "      <th>r2</th>\n",
       "      <td>False</td>\n",
       "      <td>True</td>\n",
       "      <td>False</td>\n",
       "      <td>False</td>\n",
       "      <td>False</td>\n",
       "      <td>False</td>\n",
       "      <td>False</td>\n",
       "      <td>False</td>\n",
       "    </tr>\n",
       "  </tbody>\n",
       "</table>\n",
       "</div>"
      ],
      "text/plain": [
       "       c1     c2     c3     c4     c5     c6     c7     c8\n",
       "r1  False  False  False  False  False  False  False  False\n",
       "r2  False   True  False  False  False  False  False  False"
      ]
     },
     "execution_count": 60,
     "metadata": {},
     "output_type": "execute_result"
    }
   ],
   "source": [
    "df==9"
   ]
  },
  {
   "cell_type": "code",
   "execution_count": 61,
   "id": "36d2c8c8-8b31-4e43-bec7-7a02ede522f5",
   "metadata": {},
   "outputs": [
    {
     "data": {
      "text/html": [
       "<div>\n",
       "<style scoped>\n",
       "    .dataframe tbody tr th:only-of-type {\n",
       "        vertical-align: middle;\n",
       "    }\n",
       "\n",
       "    .dataframe tbody tr th {\n",
       "        vertical-align: top;\n",
       "    }\n",
       "\n",
       "    .dataframe thead th {\n",
       "        text-align: right;\n",
       "    }\n",
       "</style>\n",
       "<table border=\"1\" class=\"dataframe\">\n",
       "  <thead>\n",
       "    <tr style=\"text-align: right;\">\n",
       "      <th></th>\n",
       "      <th>c1</th>\n",
       "      <th>c2</th>\n",
       "      <th>c3</th>\n",
       "      <th>c4</th>\n",
       "      <th>c5</th>\n",
       "      <th>c6</th>\n",
       "      <th>c7</th>\n",
       "      <th>c8</th>\n",
       "    </tr>\n",
       "  </thead>\n",
       "  <tbody>\n",
       "    <tr>\n",
       "      <th>r1</th>\n",
       "      <td>0</td>\n",
       "      <td>2</td>\n",
       "      <td>4</td>\n",
       "      <td>6</td>\n",
       "      <td>8</td>\n",
       "      <td>10</td>\n",
       "      <td>12</td>\n",
       "      <td>14</td>\n",
       "    </tr>\n",
       "    <tr>\n",
       "      <th>r2</th>\n",
       "      <td>16</td>\n",
       "      <td>18</td>\n",
       "      <td>20</td>\n",
       "      <td>22</td>\n",
       "      <td>24</td>\n",
       "      <td>26</td>\n",
       "      <td>28</td>\n",
       "      <td>30</td>\n",
       "    </tr>\n",
       "  </tbody>\n",
       "</table>\n",
       "</div>"
      ],
      "text/plain": [
       "    c1  c2  c3  c4  c5  c6  c7  c8\n",
       "r1   0   2   4   6   8  10  12  14\n",
       "r2  16  18  20  22  24  26  28  30"
      ]
     },
     "execution_count": 61,
     "metadata": {},
     "output_type": "execute_result"
    }
   ],
   "source": [
    "df*2"
   ]
  },
  {
   "cell_type": "code",
   "execution_count": 62,
   "id": "0307f2eb-d4e7-480c-9678-96c5ac37cd42",
   "metadata": {},
   "outputs": [],
   "source": [
    "import pandas as pd\n",
    "import numpy as np"
   ]
  },
  {
   "cell_type": "code",
   "execution_count": 65,
   "id": "e006d336-a555-4010-917a-afffe1aacb0b",
   "metadata": {},
   "outputs": [],
   "source": [
    "df = pd.DataFrame({'A':[1,7,2,6,4,8,9,3], 'B':[2,4,3,8,8,4,5,1]})"
   ]
  },
  {
   "cell_type": "code",
   "execution_count": 66,
   "id": "51e06e8c-cdbd-4d9f-af74-638d64b99d9a",
   "metadata": {},
   "outputs": [
    {
     "data": {
      "text/html": [
       "<div>\n",
       "<style scoped>\n",
       "    .dataframe tbody tr th:only-of-type {\n",
       "        vertical-align: middle;\n",
       "    }\n",
       "\n",
       "    .dataframe tbody tr th {\n",
       "        vertical-align: top;\n",
       "    }\n",
       "\n",
       "    .dataframe thead th {\n",
       "        text-align: right;\n",
       "    }\n",
       "</style>\n",
       "<table border=\"1\" class=\"dataframe\">\n",
       "  <thead>\n",
       "    <tr style=\"text-align: right;\">\n",
       "      <th></th>\n",
       "      <th>A</th>\n",
       "      <th>B</th>\n",
       "    </tr>\n",
       "  </thead>\n",
       "  <tbody>\n",
       "    <tr>\n",
       "      <th>0</th>\n",
       "      <td>1</td>\n",
       "      <td>2</td>\n",
       "    </tr>\n",
       "    <tr>\n",
       "      <th>1</th>\n",
       "      <td>7</td>\n",
       "      <td>4</td>\n",
       "    </tr>\n",
       "    <tr>\n",
       "      <th>2</th>\n",
       "      <td>2</td>\n",
       "      <td>3</td>\n",
       "    </tr>\n",
       "    <tr>\n",
       "      <th>3</th>\n",
       "      <td>6</td>\n",
       "      <td>8</td>\n",
       "    </tr>\n",
       "    <tr>\n",
       "      <th>4</th>\n",
       "      <td>4</td>\n",
       "      <td>8</td>\n",
       "    </tr>\n",
       "    <tr>\n",
       "      <th>5</th>\n",
       "      <td>8</td>\n",
       "      <td>4</td>\n",
       "    </tr>\n",
       "    <tr>\n",
       "      <th>6</th>\n",
       "      <td>9</td>\n",
       "      <td>5</td>\n",
       "    </tr>\n",
       "    <tr>\n",
       "      <th>7</th>\n",
       "      <td>3</td>\n",
       "      <td>1</td>\n",
       "    </tr>\n",
       "  </tbody>\n",
       "</table>\n",
       "</div>"
      ],
      "text/plain": [
       "   A  B\n",
       "0  1  2\n",
       "1  7  4\n",
       "2  2  3\n",
       "3  6  8\n",
       "4  4  8\n",
       "5  8  4\n",
       "6  9  5\n",
       "7  3  1"
      ]
     },
     "execution_count": 66,
     "metadata": {},
     "output_type": "execute_result"
    }
   ],
   "source": [
    "df"
   ]
  },
  {
   "cell_type": "code",
   "execution_count": 78,
   "id": "10d772dd-58e7-44c9-bf6e-e846ad55a538",
   "metadata": {},
   "outputs": [
    {
     "data": {
      "text/plain": [
       "<AxesSubplot: xlabel='A', ylabel='B'>"
      ]
     },
     "execution_count": 78,
     "metadata": {},
     "output_type": "execute_result"
    },
    {
     "data": {
      "image/png": "[encoded data removed]",
      "text/plain": [
       "<Figure size 640x480 with 2 Axes>"
      ]
     },
     "metadata": {},
     "output_type": "display_data"
    }
   ],
   "source": [
    "from matplotlib.colors import ListedColormap\n",
    "colors = ['red', 'blue', 'green']\n",
    "cmap = ListedColormap(colors)\n",
    "df.plot.scatter(x='A',y='B',c='Cluster', cmap=cmap)"
   ]
  },
  {
   "cell_type": "code",
   "execution_count": 71,
   "id": "50be0231-b0ab-48cb-baf3-0cf60263ebed",
   "metadata": {},
   "outputs": [
    {
     "name": "stderr",
     "output_type": "stream",
     "text": [
      "/opt/conda/lib/python3.10/site-packages/sklearn/cluster/_kmeans.py:870: FutureWarning: The default value of `n_init` will change from 10 to 'auto' in 1.4. Set the value of `n_init` explicitly to suppress the warning\n",
      "  warnings.warn(\n"
     ]
    }
   ],
   "source": [
    "from sklearn.cluster import KMeans\n",
    "k = 3\n",
    "kmeans = KMeans(n_clusters=k)\n",
    "kmeans.fit(df)\n",
    "df['Cluster'] = kmeans.labels_"
   ]
  },
  {
   "cell_type": "code",
   "execution_count": 72,
   "id": "fb05644b-cf70-449a-8a17-a2c2978375d9",
   "metadata": {},
   "outputs": [
    {
     "data": {
      "text/html": [
       "<div>\n",
       "<style scoped>\n",
       "    .dataframe tbody tr th:only-of-type {\n",
       "        vertical-align: middle;\n",
       "    }\n",
       "\n",
       "    .dataframe tbody tr th {\n",
       "        vertical-align: top;\n",
       "    }\n",
       "\n",
       "    .dataframe thead th {\n",
       "        text-align: right;\n",
       "    }\n",
       "</style>\n",
       "<table border=\"1\" class=\"dataframe\">\n",
       "  <thead>\n",
       "    <tr style=\"text-align: right;\">\n",
       "      <th></th>\n",
       "      <th>A</th>\n",
       "      <th>B</th>\n",
       "      <th>Cluster</th>\n",
       "    </tr>\n",
       "  </thead>\n",
       "  <tbody>\n",
       "    <tr>\n",
       "      <th>0</th>\n",
       "      <td>1</td>\n",
       "      <td>2</td>\n",
       "      <td>1</td>\n",
       "    </tr>\n",
       "    <tr>\n",
       "      <th>1</th>\n",
       "      <td>7</td>\n",
       "      <td>4</td>\n",
       "      <td>0</td>\n",
       "    </tr>\n",
       "    <tr>\n",
       "      <th>2</th>\n",
       "      <td>2</td>\n",
       "      <td>3</td>\n",
       "      <td>1</td>\n",
       "    </tr>\n",
       "    <tr>\n",
       "      <th>3</th>\n",
       "      <td>6</td>\n",
       "      <td>8</td>\n",
       "      <td>2</td>\n",
       "    </tr>\n",
       "    <tr>\n",
       "      <th>4</th>\n",
       "      <td>4</td>\n",
       "      <td>8</td>\n",
       "      <td>2</td>\n",
       "    </tr>\n",
       "    <tr>\n",
       "      <th>5</th>\n",
       "      <td>8</td>\n",
       "      <td>4</td>\n",
       "      <td>0</td>\n",
       "    </tr>\n",
       "    <tr>\n",
       "      <th>6</th>\n",
       "      <td>9</td>\n",
       "      <td>5</td>\n",
       "      <td>0</td>\n",
       "    </tr>\n",
       "    <tr>\n",
       "      <th>7</th>\n",
       "      <td>3</td>\n",
       "      <td>1</td>\n",
       "      <td>1</td>\n",
       "    </tr>\n",
       "  </tbody>\n",
       "</table>\n",
       "</div>"
      ],
      "text/plain": [
       "   A  B  Cluster\n",
       "0  1  2        1\n",
       "1  7  4        0\n",
       "2  2  3        1\n",
       "3  6  8        2\n",
       "4  4  8        2\n",
       "5  8  4        0\n",
       "6  9  5        0\n",
       "7  3  1        1"
      ]
     },
     "execution_count": 72,
     "metadata": {},
     "output_type": "execute_result"
    }
   ],
   "source": [
    "df"
   ]
  },
  {
   "cell_type": "code",
   "execution_count": 75,
   "id": "86c4a873-90de-4b1e-b15f-b54bf666c21a",
   "metadata": {},
   "outputs": [
    {
     "data": {
      "image/png": "[encoded data removed]",
      "text/plain": [
       "<Figure size 640x480 with 1 Axes>"
      ]
     },
     "metadata": {},
     "output_type": "display_data"
    }
   ],
   "source": [
    "import matplotlib.pyplot as plt\n",
    "plt.scatter(df['A'], df['B'], c=df['Cluster'])\n",
    "plt.xlabel('A')\n",
    "plt.ylabel('B')\n",
    "plt.title('K-Means Clustering Scatter Plot')\n",
    "plt.show()"
   ]
  },
  {
   "cell_type": "code",
   "execution_count": 85,
   "id": "9256a65f-ab94-4e5e-8c5f-2b5f3a057739",
   "metadata": {},
   "outputs": [
    {
     "name": "stdout",
     "output_type": "stream",
     "text": [
      "[*********************100%***********************]  1 of 1 completed\n"
     ]
    },
    {
     "name": "stderr",
     "output_type": "stream",
     "text": [
      "/opt/conda/lib/python3.10/site-packages/statsmodels/tsa/base/tsa_model.py:471: ValueWarning: A date index has been provided, but it has no associated frequency information and so will be ignored when e.g. forecasting.\n",
      "  self._init_dates(dates, freq)\n",
      "/opt/conda/lib/python3.10/site-packages/statsmodels/tsa/base/tsa_model.py:471: ValueWarning: A date index has been provided, but it has no associated frequency information and so will be ignored when e.g. forecasting.\n",
      "  self._init_dates(dates, freq)\n",
      "/opt/conda/lib/python3.10/site-packages/statsmodels/tsa/base/tsa_model.py:471: ValueWarning: A date index has been provided, but it has no associated frequency information and so will be ignored when e.g. forecasting.\n",
      "  self._init_dates(dates, freq)\n",
      "/opt/conda/lib/python3.10/site-packages/statsmodels/tsa/base/tsa_model.py:834: ValueWarning: No supported index is available. Prediction results will be given with an integer index beginning at `start`.\n",
      "  return get_prediction_index(\n"
     ]
    },
    {
     "data": {
      "image/png": "[encoded data removed]",
      "text/plain": [
       "<Figure size 640x480 with 1 Axes>"
      ]
     },
     "metadata": {},
     "output_type": "display_data"
    }
   ],
   "source": [
    "import pandas as pd\n",
    "import yfinance as yf\n",
    "from statsmodels.tsa.arima.model import ARIMA\n",
    "\n",
    "# Download HSBC stock price data from Yahoo Finance using yfinance\n",
    "hsbc = yf.download('0005.HK', start='2010-01-01', end='2023-06-28')\n",
    "\n",
    "# Extract the 'Close' column as a Pandas series\n",
    "data = hsbc['Close']\n",
    "\n",
    "# Fit the ARIMA model to the data\n",
    "model = ARIMA(data, order=(1,1,1)).fit()\n",
    "\n",
    "# Make predictions for the next 365 days\n",
    "forecast = model.forecast(steps=365)\n",
    "\n",
    "# Plot the forecasted values\n",
    "forecast.plot()\n",
    "\n",
    "# Show the plot\n",
    "plt.show()"
   ]
  },
  {
   "cell_type": "code",
   "execution_count": 95,
   "id": "0d2fe209-1a71-490f-8490-8460f86c9eb0",
   "metadata": {},
   "outputs": [
    {
     "ename": "TypeError",
     "evalue": "int() argument must be a string, a bytes-like object or a real number, not 'tuple'",
     "output_type": "error",
     "traceback": [
      "\u001b[0;31m---------------------------------------------------------------------------\u001b[0m",
      "\u001b[0;31mTypeError\u001b[0m                                 Traceback (most recent call last)",
      "Cell \u001b[0;32mIn[95], line 46\u001b[0m\n\u001b[1;32m     44\u001b[0m \u001b[38;5;66;03m# Update the Q-table using the Q-learning formula\u001b[39;00m\n\u001b[1;32m     45\u001b[0m \u001b[38;5;28;01mif\u001b[39;00m \u001b[38;5;28misinstance\u001b[39m(new_state, \u001b[38;5;28mint\u001b[39m):\n\u001b[0;32m---> 46\u001b[0m     Q_table[\u001b[38;5;28mint\u001b[39m(state), \u001b[38;5;28mint\u001b[39m(action)] \u001b[38;5;241m=\u001b[39m Q_table[\u001b[38;5;28;43mint\u001b[39;49m\u001b[43m(\u001b[49m\u001b[43mstate\u001b[49m\u001b[43m)\u001b[49m, \u001b[38;5;28mint\u001b[39m(action)] \u001b[38;5;241m*\u001b[39m (\u001b[38;5;241m1\u001b[39m \u001b[38;5;241m-\u001b[39m learning_rate) \u001b[38;5;241m+\u001b[39m \\\n\u001b[1;32m     47\u001b[0m         learning_rate \u001b[38;5;241m*\u001b[39m (reward \u001b[38;5;241m+\u001b[39m discount_rate \u001b[38;5;241m*\u001b[39m np\u001b[38;5;241m.\u001b[39mmax(Q_table[\u001b[38;5;28mint\u001b[39m(new_state), :]))\n\u001b[1;32m     48\u001b[0m \u001b[38;5;28;01melse\u001b[39;00m:\n\u001b[1;32m     49\u001b[0m     tile_index \u001b[38;5;241m=\u001b[39m new_state[\u001b[38;5;241m0\u001b[39m]\n",
      "\u001b[0;31mTypeError\u001b[0m: int() argument must be a string, a bytes-like object or a real number, not 'tuple'"
     ]
    }
   ],
   "source": [
    "import numpy as np\n",
    "import gym\n",
    "\n",
    "# Create the FrozenLake-v1 environment\n",
    "env = gym.make('FrozenLake-v1')\n",
    "\n",
    "# Set the number of episodes and maximum number of steps per episode\n",
    "num_episodes = 2000\n",
    "max_steps_per_episode = 100\n",
    "\n",
    "# Set the learning rate, discount rate, and exploration rate\n",
    "learning_rate = 0.8\n",
    "discount_rate = 0.95\n",
    "exploration_rate = 0.1\n",
    "max_exploration_rate = 1.0\n",
    "min_exploration_rate = 0.01\n",
    "exploration_decay_rate = 0.001\n",
    "\n",
    "# Initialize the Q-table with zeros\n",
    "Q_table = np.zeros((env.observation_space.n, env.action_space.n))\n",
    "\n",
    "# Iterate over each episode\n",
    "for episode in range(num_episodes):\n",
    "    # Reset the environment\n",
    "    state = env.reset()\n",
    "    done = False\n",
    "    reward_total = 0\n",
    "    \n",
    "    # Iterate over each step in the episode\n",
    "    for step in range(max_steps_per_episode):\n",
    "        # Choose an action using the epsilon-greedy policy\n",
    "        exploration_rate_threshold = np.random.uniform(0, 1)\n",
    "        if exploration_rate_threshold > exploration_rate:\n",
    "            tile_index = state[0]\n",
    "            if tile_index < 0 or tile_index >= Q_table.shape[0]:\n",
    "                raise ValueError(\"Invalid tile index: {}\".format(tile_index))\n",
    "            action = np.argmax(Q_table[tile_index, :])\n",
    "        else:\n",
    "            action = env.action_space.sample()\n",
    "        \n",
    "        # Take the chosen action and observe the next state and reward\n",
    "        new_state, reward, done, _ = env.step(action)[:4]\n",
    "        \n",
    "        # Update the Q-table using the Q-learning formula\n",
    "        if isinstance(new_state, int):\n",
    "            Q_table[int(state), int(action)] = Q_table[int(state), int(action)] * (1 - learning_rate) + \\\n",
    "                learning_rate * (reward + discount_rate * np.max(Q_table[int(new_state), :]))\n",
    "        else:\n",
    "            tile_index = new_state[0]\n",
    "            Q_table[int(state), int(action)] = Q_table[int(state), int(action)] * (1 - learning_rate) + \\\n",
    "                learning_rate * (reward + discount_rate * np.max(Q_table[tile_index, :]))\n",
    "        \n",
    "        # Update the state and reward for the next step\n",
    "        state = new_state\n",
    "        reward_total += reward\n",
    "        \n",
    "        # Break if the episode is done\n",
    "        if done:\n",
    "            break\n",
    "    \n",
    "    # Decay the exploration rate\n",
    "    exploration_rate = min_exploration_rate + \\\n",
    "        (max_exploration_rate - min_exploration_rate) * np.exp(-exploration_decay_rate * episode)\n",
    "    \n",
    "    # Print the total reward for the episode\n",
    "    print(\"Episode: {}, Total Reward: {}\".format(episode+1, reward_total))\n",
    "\n",
    "# Play the game using the learned Q-table\n",
    "state = env.reset()\n",
    "done = False\n",
    "while not done:\n",
    "    tile_index = state[0]\n",
    "    if tile_index < 0 or tile_index >= Q_table.shape[0]:\n",
    "        raise ValueError(\"Invalid tile index: {}\".format(tile_index))\n",
    "    action = np.argmax(Q_table[tile_index, :])\n",
    "    new_state, reward, done, _ = env.step(action)[:4]\n",
    "    env.render()\n",
    "    state = new_state\n",
    "env.close()"
   ]
  },
  {
   "cell_type": "code",
   "execution_count": 25,
   "id": "ab66bbe4-aea2-4b7e-80f3-324085929e20",
   "metadata": {},
   "outputs": [],
   "source": [
    "from keras import layers\n",
    "from keras.datasets import mnist\n",
    "from keras.utils.np_utils import to_categorical\n",
    "from keras import models\n",
    "from keras import layers"
   ]
  },
  {
   "cell_type": "code",
   "execution_count": 18,
   "id": "d45a015e-0783-4fe1-abb4-e8dfd2907a8f",
   "metadata": {},
   "outputs": [],
   "source": [
    "(train_images, train_labels),(test_images, test_labels) = mnist.load_data()"
   ]
  },
  {
   "cell_type": "code",
   "execution_count": 4,
   "id": "23be972d-2a8d-4aaa-ada3-09f20dac4ac0",
   "metadata": {},
   "outputs": [
    {
     "data": {
      "text/plain": [
       "((60000, 28, 28), (60000,), (10000, 28, 28), (10000,))"
      ]
     },
     "execution_count": 4,
     "metadata": {},
     "output_type": "execute_result"
    }
   ],
   "source": [
    "train_images.shape, train_labels.shape,test_images.shape, test_labels.shape"
   ]
  },
  {
   "cell_type": "code",
   "execution_count": 6,
   "id": "28a15381-4728-4a7c-b1f3-db8f39ee12b3",
   "metadata": {},
   "outputs": [],
   "source": [
    "train_images_2 = train_images.reshape((60000,28*28))/255"
   ]
  },
  {
   "cell_type": "code",
   "execution_count": 7,
   "id": "979e5c98-0058-4d90-8bdb-188739952a99",
   "metadata": {},
   "outputs": [
    {
     "data": {
      "text/plain": [
       "(60000, 784)"
      ]
     },
     "execution_count": 7,
     "metadata": {},
     "output_type": "execute_result"
    }
   ],
   "source": [
    "train_images_2.shape"
   ]
  },
  {
   "cell_type": "code",
   "execution_count": 11,
   "id": "3cc7bf83-1de1-4667-bf0f-e38000d45651",
   "metadata": {},
   "outputs": [],
   "source": [
    "test_images_2 = test_images.reshape((10000,28*28))/255"
   ]
  },
  {
   "cell_type": "code",
   "execution_count": 12,
   "id": "561fde27-f61d-478a-97de-67e918402537",
   "metadata": {},
   "outputs": [
    {
     "data": {
      "text/plain": [
       "(10000, 784)"
      ]
     },
     "execution_count": 12,
     "metadata": {},
     "output_type": "execute_result"
    }
   ],
   "source": [
    "test_images_2.shape"
   ]
  },
  {
   "cell_type": "code",
   "execution_count": 32,
   "id": "3874efdc-32d5-464b-bec8-1eb61ce0e818",
   "metadata": {},
   "outputs": [],
   "source": [
    "train_labels_2 = to_categorical(train_labels)\n",
    "test_labels_2  = to_categorical(test_labels)"
   ]
  },
  {
   "cell_type": "code",
   "execution_count": 21,
   "id": "b8c86af9-20e3-45e1-8974-c7645cdd5390",
   "metadata": {},
   "outputs": [
    {
     "data": {
      "text/plain": [
       "((60000,), (60000, 10))"
      ]
     },
     "execution_count": 21,
     "metadata": {},
     "output_type": "execute_result"
    }
   ],
   "source": [
    "train_labels.shape, train_labels_2.shape"
   ]
  },
  {
   "cell_type": "code",
   "execution_count": 22,
   "id": "d0775a8f-9261-44ef-9eca-8f11e8b4a355",
   "metadata": {},
   "outputs": [
    {
     "data": {
      "text/plain": [
       "array([5, 0, 4, ..., 5, 6, 8], dtype=uint8)"
      ]
     },
     "execution_count": 22,
     "metadata": {},
     "output_type": "execute_result"
    }
   ],
   "source": [
    "train_labels"
   ]
  },
  {
   "cell_type": "code",
   "execution_count": 23,
   "id": "f6129e32-b103-4c57-9412-bd8918cb59d2",
   "metadata": {},
   "outputs": [
    {
     "data": {
      "text/plain": [
       "array([[0., 0., 0., ..., 0., 0., 0.],\n",
       "       [1., 0., 0., ..., 0., 0., 0.],\n",
       "       [0., 0., 0., ..., 0., 0., 0.],\n",
       "       ...,\n",
       "       [0., 0., 0., ..., 0., 0., 0.],\n",
       "       [0., 0., 0., ..., 0., 0., 0.],\n",
       "       [0., 0., 0., ..., 0., 1., 0.]], dtype=float32)"
      ]
     },
     "execution_count": 23,
     "metadata": {},
     "output_type": "execute_result"
    }
   ],
   "source": [
    "train_labels_2  #one hot decoding,  e.g. 5 => [0,0,0,0,1,0,....]"
   ]
  },
  {
   "cell_type": "code",
   "execution_count": 27,
   "id": "81649c4f-b08d-408f-bc18-75a8ce3362a3",
   "metadata": {},
   "outputs": [],
   "source": [
    "network = models.Sequential()\n",
    "network.add(layers.Dense(512, activation = 'relu', input_shape=(28*28,)))\n",
    "network.add(layers.Dense(10, activation='softmax'))\n",
    "network.compile(optimizer='rmsprop',loss='categorical_crossentropy', metrics=['accuracy'])"
   ]
  },
  {
   "cell_type": "code",
   "execution_count": 28,
   "id": "d493a946-7037-4958-aa3d-cd2753eb0b26",
   "metadata": {},
   "outputs": [
    {
     "name": "stdout",
     "output_type": "stream",
     "text": [
      "Model: \"sequential_1\"\n",
      "_________________________________________________________________\n",
      " Layer (type)                Output Shape              Param #   \n",
      "=================================================================\n",
      " dense_1 (Dense)             (None, 512)               401920    \n",
      "                                                                 \n",
      " dense_2 (Dense)             (None, 10)                5130      \n",
      "                                                                 \n",
      "=================================================================\n",
      "Total params: 407,050\n",
      "Trainable params: 407,050\n",
      "Non-trainable params: 0\n",
      "_________________________________________________________________\n"
     ]
    }
   ],
   "source": [
    "network.summary()"
   ]
  },
  {
   "cell_type": "code",
   "execution_count": 29,
   "id": "6d5b48fe-30ba-40b4-a3f6-94ba0d21b618",
   "metadata": {},
   "outputs": [
    {
     "name": "stdout",
     "output_type": "stream",
     "text": [
      "Epoch 1/10\n"
     ]
    },
    {
     "name": "stderr",
     "output_type": "stream",
     "text": [
      "2023-07-05 11:38:47.074494: W tensorflow/tsl/framework/cpu_allocator_impl.cc:83] Allocation of 188160000 exceeds 10% of free system memory.\n"
     ]
    },
    {
     "name": "stdout",
     "output_type": "stream",
     "text": [
      "469/469 [==============================] - 2s 3ms/step - loss: 0.2633 - accuracy: 0.9228\n",
      "Epoch 2/10\n",
      "469/469 [==============================] - 1s 3ms/step - loss: 0.1073 - accuracy: 0.9682\n",
      "Epoch 3/10\n",
      "469/469 [==============================] - 1s 3ms/step - loss: 0.0710 - accuracy: 0.9789\n",
      "Epoch 4/10\n",
      "469/469 [==============================] - 2s 3ms/step - loss: 0.0509 - accuracy: 0.9847\n",
      "Epoch 5/10\n",
      "469/469 [==============================] - 1s 3ms/step - loss: 0.0392 - accuracy: 0.9879\n",
      "Epoch 6/10\n",
      "469/469 [==============================] - 1s 3ms/step - loss: 0.0287 - accuracy: 0.9916\n",
      "Epoch 7/10\n",
      "469/469 [==============================] - 1s 3ms/step - loss: 0.0223 - accuracy: 0.9936\n",
      "Epoch 8/10\n",
      "469/469 [==============================] - 1s 3ms/step - loss: 0.0168 - accuracy: 0.9953\n",
      "Epoch 9/10\n",
      "469/469 [==============================] - 1s 3ms/step - loss: 0.0125 - accuracy: 0.9967\n",
      "Epoch 10/10\n",
      "469/469 [==============================] - 1s 3ms/step - loss: 0.0093 - accuracy: 0.9976\n"
     ]
    },
    {
     "data": {
      "text/plain": [
       "<keras.callbacks.History at 0x7f3acda9a5c0>"
      ]
     },
     "execution_count": 29,
     "metadata": {},
     "output_type": "execute_result"
    }
   ],
   "source": [
    "network.fit(train_images_2, train_labels_2, epochs=10, batch_size=128)"
   ]
  },
  {
   "cell_type": "code",
   "execution_count": 33,
   "id": "1d3f2114-672d-465e-827d-c6639f4250b4",
   "metadata": {},
   "outputs": [
    {
     "name": "stdout",
     "output_type": "stream",
     "text": [
      " 44/313 [===>..........................] - ETA: 0s - loss: 0.0860 - accuracy: 0.9759 "
     ]
    },
    {
     "name": "stderr",
     "output_type": "stream",
     "text": [
      "2023-07-05 11:40:05.420107: W tensorflow/tsl/framework/cpu_allocator_impl.cc:83] Allocation of 31360000 exceeds 10% of free system memory.\n"
     ]
    },
    {
     "name": "stdout",
     "output_type": "stream",
     "text": [
      "313/313 [==============================] - 0s 1ms/step - loss: 0.0679 - accuracy: 0.9806\n"
     ]
    }
   ],
   "source": [
    "test_loss, test_acc = network.evaluate(test_images_2, test_labels_2)"
   ]
  },
  {
   "cell_type": "code",
   "execution_count": 34,
   "id": "708dc87a-dc7f-4727-9b90-d94e39f9a1d7",
   "metadata": {},
   "outputs": [
    {
     "data": {
      "text/plain": [
       "0.9805999994277954"
      ]
     },
     "execution_count": 34,
     "metadata": {},
     "output_type": "execute_result"
    }
   ],
   "source": [
    "test_acc"
   ]
  },
  {
   "cell_type": "code",
   "execution_count": 35,
   "id": "cf535628-ea8c-4149-8add-a6fb9e901b58",
   "metadata": {},
   "outputs": [
    {
     "data": {
      "text/plain": [
       "'/home/jovyan/work/MarketMakingViaReinforcementLearning'"
      ]
     },
     "execution_count": 35,
     "metadata": {},
     "output_type": "execute_result"
    }
   ],
   "source": [
    "import os\n",
    "os.getcwd()"
   ]
  },
  {
   "cell_type": "code",
   "execution_count": 93,
   "id": "9930e1dd-f9d4-4e93-baa9-061efb6cfc72",
   "metadata": {},
   "outputs": [
    {
     "name": "stdout",
     "output_type": "stream",
     "text": [
      "<class 'pandas.core.frame.DataFrame'>\n",
      "RangeIndex: 2500 entries, 0 to 2499\n",
      "Data columns (total 7 columns):\n",
      " #   Column       Non-Null Count  Dtype  \n",
      "---  ------       --------------  -----  \n",
      " 0   Amount       2500 non-null   float64\n",
      " 1   TranNo       2456 non-null   object \n",
      " 2   Status       2459 non-null   object \n",
      " 3   Department   2486 non-null   object \n",
      " 4   Fiscal Year  2445 non-null   float64\n",
      " 5   Month        2478 non-null   object \n",
      " 6   RedFlag      2500 non-null   int64  \n",
      "dtypes: float64(2), int64(1), object(4)\n",
      "memory usage: 136.8+ KB\n"
     ]
    },
    {
     "data": {
      "image/png": "[encoded data removed]",
      "text/plain": [
       "<Figure size 640x480 with 1 Axes>"
      ]
     },
     "metadata": {},
     "output_type": "display_data"
    },
    {
     "name": "stdout",
     "output_type": "stream",
     "text": [
      "Training set has 1863 samples\n",
      "Testing set has 466 samples\n"
     ]
    },
    {
     "name": "stderr",
     "output_type": "stream",
     "text": [
      "/tmp/ipykernel_262/4172877753.py:60: FutureWarning: The frame.append method is deprecated and will be removed from pandas in a future version. Use pandas.concat instead.\n",
      "  summary=summary.append({'Learner' : 'GaussianNB',\n",
      "/tmp/ipykernel_262/4172877753.py:75: FutureWarning: The frame.append method is deprecated and will be removed from pandas in a future version. Use pandas.concat instead.\n",
      "  summary=summary.append({'Learner' : 'LogisticRegression',\n",
      "/tmp/ipykernel_262/4172877753.py:90: FutureWarning: The frame.append method is deprecated and will be removed from pandas in a future version. Use pandas.concat instead.\n",
      "  summary=summary.append({'Learner' : 'DecisionTree',\n",
      "/tmp/ipykernel_262/4172877753.py:105: FutureWarning: The frame.append method is deprecated and will be removed from pandas in a future version. Use pandas.concat instead.\n",
      "  summary=summary.append({'Learner' : 'RandomForest',\n",
      "/opt/conda/lib/python3.10/site-packages/sklearn/metrics/_classification.py:1344: UndefinedMetricWarning: Precision is ill-defined and being set to 0.0 in labels with no predicted samples. Use `zero_division` parameter to control this behavior.\n",
      "  _warn_prf(average, modifier, msg_start, len(result))\n",
      "/tmp/ipykernel_262/4172877753.py:121: FutureWarning: The frame.append method is deprecated and will be removed from pandas in a future version. Use pandas.concat instead.\n",
      "  summary=summary.append({'Learner' : 'ExtraTrees',\n",
      "/tmp/ipykernel_262/4172877753.py:136: FutureWarning: The frame.append method is deprecated and will be removed from pandas in a future version. Use pandas.concat instead.\n",
      "  summary=summary.append({'Learner' : 'SGDClassifier',\n"
     ]
    },
    {
     "data": {
      "text/plain": [
       "<AxesSubplot: xlabel='Learner'>"
      ]
     },
     "execution_count": 93,
     "metadata": {},
     "output_type": "execute_result"
    },
    {
     "data": {
      "image/png": "[encoded data removed]",
      "text/plain": [
       "<Figure size 640x480 with 1 Axes>"
      ]
     },
     "metadata": {},
     "output_type": "display_data"
    },
    {
     "data": {
      "image/png": "[encoded data removed]",
      "text/plain": [
       "<Figure size 1000x500 with 1 Axes>"
      ]
     },
     "metadata": {},
     "output_type": "display_data"
    }
   ],
   "source": [
    "import pandas as pd\n",
    "import matplotlib.pyplot as plt\n",
    "import numpy as np\n",
    "from sklearn.preprocessing import MinMaxScaler\n",
    "df = pd.read_csv(\"../tranrecords.csv\", na_values=':')\n",
    "df.info()\n",
    "df.any()\n",
    "df.isnull().sum()\n",
    "dfa=df['Amount']\n",
    "dfa.min(), dfa.quantile(q=0.25), dfa.quantile(q=0.5), dfa.quantile(q=0.75),dfa.max()\n",
    "#dfa.plot.box()\n",
    "d = {\n",
    "    \"Jan\" : 1,\n",
    "    \"Feb\" : 2,\n",
    "    \"Mar\" : 3,\n",
    "    \"Apr\" : 4,\n",
    "    \"May\" : 5,\n",
    "    \"Jun\" : 6,\n",
    "    \"Jul\" : 7,\n",
    "    \"Aug\" : 8,\n",
    "    \"Sep\" : 9,\n",
    "    \"Oct\" : 10,\n",
    "    \"Nov\" : 11,\n",
    "    \"Dec\" : 12\n",
    "}\n",
    "df['Month'] = df['Month'].map(d)\n",
    "d = {\"Paid_Reconciled\":0, \"Paid_UnReconciled\":1}\n",
    "df['Status']=df['Status'].map(d)\n",
    "#plt.hist(df['Amount'],bins=25)\n",
    "plt.hist(df['Fiscal Year'],bins=10)\n",
    "plt.show()\n",
    "df['Amount'] = df['Amount'].apply(lambda x: np.log(x+1))\n",
    "plt.hist(df['Amount'],bins=25)\n",
    "np.cov(df['Amount'].fillna(df['Amount'].mean()),df['RedFlag'])\n",
    "data = pd.DataFrame(df)\n",
    "scaler = MinMaxScaler()\n",
    "numerical = ['Amount', 'Month', 'Status']\n",
    "data[numerical] = scaler.fit_transform(data[numerical])\n",
    "from sklearn.model_selection import train_test_split\n",
    "data = data.dropna()\n",
    "X_train, X_test, y_train, y_test = train_test_split(data[['Amount', 'Month', 'Status']],\n",
    "                                                    data['RedFlag'], test_size=0.2, random_state=0)\n",
    "print(f\"Training set has {X_train.shape[0]} samples\")\n",
    "print(f\"Testing set has {X_test.shape[0]} samples\")\n",
    "summary= pd.DataFrame(columns=['Learner', 'Train Time', \"Pred Time\", \"Acc score\", \"F1 score\", \"Precision\", \"Recall\"])\n",
    "from sklearn.naive_bayes import GaussianNB\n",
    "from sklearn.metrics import accuracy_score, f1_score, precision_score, \\\n",
    "recall_score, classification_report, confusion_matrix\n",
    "from time import time\n",
    "NB = GaussianNB()\n",
    "start = time()\n",
    "NB.fit(X_train, y_train)\n",
    "mid = time()\n",
    "pred = NB.predict(X_test)\n",
    "end = time()\n",
    "\n",
    "pred_res = pd.DataFrame(pred)\n",
    "pred_res = pred_res.set_index(y_test.index)\n",
    "\n",
    "summary=summary.append({'Learner' : 'GaussianNB', \n",
    "                        'Train Time' : mid-start,\n",
    "                        'Pred Time' : end - mid,\n",
    "                        'Acc score' : accuracy_score(y_test, pred),\n",
    "                        'F1 score' : f1_score(y_test, pred, average='macro'),\n",
    "                        'Precision' : precision_score(y_test, pred, average='macro'),\n",
    "                        'Recall' : recall_score(y_test, pred, average='macro')}, ignore_index=True)\n",
    "summary\n",
    "from sklearn.linear_model import LogisticRegression\n",
    "LR = LogisticRegression(random_state=0)\n",
    "start = time()\n",
    "LR.fit(X_train, y_train)\n",
    "mid = time()\n",
    "pred = LR.predict(X_test)\n",
    "end = time()\n",
    "summary=summary.append({'Learner' : 'LogisticRegression', \n",
    "                        'Train Time' : mid-start,\n",
    "                        'Pred Time' : end - mid,\n",
    "                        'Acc score' : accuracy_score(y_test, pred),\n",
    "                        'F1 score' : f1_score(y_test, pred, average='macro'),\n",
    "                        'Precision' : precision_score(y_test, pred, average='macro'),\n",
    "                        'Recall' : recall_score(y_test, pred, average='macro')}, ignore_index=True)\n",
    "summary\n",
    "from sklearn.tree import DecisionTreeClassifier\n",
    "DT = DecisionTreeClassifier(max_features=0.2, max_depth=2, min_samples_split=2, random_state=0)\n",
    "start = time()\n",
    "DT.fit(X_train, y_train)\n",
    "mid = time()\n",
    "pred = DT.predict(X_test)\n",
    "end = time()\n",
    "summary=summary.append({'Learner' : 'DecisionTree', \n",
    "                        'Train Time' : mid-start,\n",
    "                        'Pred Time' : end - mid,\n",
    "                        'Acc score' : accuracy_score(y_test, pred),\n",
    "                        'F1 score' : f1_score(y_test, pred, average='macro'),\n",
    "                        'Precision' : precision_score(y_test, pred, average='macro'),\n",
    "                        'Recall' : recall_score(y_test, pred, average='macro')}, ignore_index=True)\n",
    "summary\n",
    "from sklearn.ensemble import RandomForestClassifier\n",
    "RF = RandomForestClassifier(max_depth=2)\n",
    "start = time()\n",
    "RF.fit(X_train, y_train)\n",
    "mid = time()\n",
    "pred = RF.predict(X_test)\n",
    "end = time()\n",
    "summary=summary.append({'Learner' : 'RandomForest', \n",
    "                        'Train Time' : mid-start,\n",
    "                        'Pred Time' : end - mid,\n",
    "                        'Acc score' : accuracy_score(y_test, pred),\n",
    "                        'F1 score' : f1_score(y_test, pred, average='macro'),\n",
    "                        'Precision' : precision_score(y_test, pred, average='macro'),\n",
    "                        'Recall' : recall_score(y_test, pred, average='macro')}, ignore_index=True)\n",
    "summary\n",
    "from sklearn.ensemble import ExtraTreesClassifier\n",
    "\n",
    "ET = ExtraTreesClassifier(max_depth=2)\n",
    "start = time()\n",
    "ET.fit(X_train, y_train)\n",
    "mid = time()\n",
    "pred = ET.predict(X_test)\n",
    "end = time()\n",
    "summary=summary.append({'Learner' : 'ExtraTrees', \n",
    "                        'Train Time' : mid-start,\n",
    "                        'Pred Time' : end - mid,\n",
    "                        'Acc score' : accuracy_score(y_test, pred),\n",
    "                        'F1 score' : f1_score(y_test, pred, average='macro'),\n",
    "                        'Precision' : precision_score(y_test, pred, average='macro'),\n",
    "                        'Recall' : recall_score(y_test, pred, average='macro')}, ignore_index=True)\n",
    "summary\n",
    "from sklearn.linear_model import SGDClassifier\n",
    "SGD = SGDClassifier(loss='hinge', penalty='l2')\n",
    "start = time()\n",
    "SGD.fit(X_train, y_train)\n",
    "mid = time()\n",
    "pred = SGD.predict(X_test)\n",
    "end = time()\n",
    "summary=summary.append({'Learner' : 'SGDClassifier', \n",
    "                        'Train Time' : mid-start,\n",
    "                        'Pred Time' : end - mid,\n",
    "                        'Acc score' : accuracy_score(y_test, pred),\n",
    "                        'F1 score' : f1_score(y_test, pred, average='macro'),\n",
    "                        'Precision' : precision_score(y_test, pred, average='macro'),\n",
    "                        'Recall' : recall_score(y_test, pred, average='macro')}, ignore_index=True)\n",
    "summary\n",
    "summary[['Learner', 'Acc score', 'F1 score', 'Precision', 'Recall']].plot(kind='bar', x='Learner', figsize=(10,5))"
   ]
  },
  {
   "cell_type": "code",
   "execution_count": 94,
   "id": "61e353f1-4d4c-461f-9790-928324c67ad8",
   "metadata": {},
   "outputs": [
    {
     "data": {
      "text/html": [
       "<div>\n",
       "<style scoped>\n",
       "    .dataframe tbody tr th:only-of-type {\n",
       "        vertical-align: middle;\n",
       "    }\n",
       "\n",
       "    .dataframe tbody tr th {\n",
       "        vertical-align: top;\n",
       "    }\n",
       "\n",
       "    .dataframe thead th {\n",
       "        text-align: right;\n",
       "    }\n",
       "</style>\n",
       "<table border=\"1\" class=\"dataframe\">\n",
       "  <thead>\n",
       "    <tr style=\"text-align: right;\">\n",
       "      <th></th>\n",
       "      <th>Learner</th>\n",
       "      <th>Train Time</th>\n",
       "      <th>Pred Time</th>\n",
       "      <th>Acc score</th>\n",
       "      <th>F1 score</th>\n",
       "      <th>Precision</th>\n",
       "      <th>Recall</th>\n",
       "    </tr>\n",
       "  </thead>\n",
       "  <tbody>\n",
       "    <tr>\n",
       "      <th>0</th>\n",
       "      <td>GaussianNB</td>\n",
       "      <td>0.002272</td>\n",
       "      <td>0.000998</td>\n",
       "      <td>0.959227</td>\n",
       "      <td>0.915621</td>\n",
       "      <td>0.935524</td>\n",
       "      <td>0.898240</td>\n",
       "    </tr>\n",
       "    <tr>\n",
       "      <th>1</th>\n",
       "      <td>LogisticRegression</td>\n",
       "      <td>0.004750</td>\n",
       "      <td>0.001075</td>\n",
       "      <td>0.933476</td>\n",
       "      <td>0.846246</td>\n",
       "      <td>0.924379</td>\n",
       "      <td>0.799310</td>\n",
       "    </tr>\n",
       "    <tr>\n",
       "      <th>2</th>\n",
       "      <td>DecisionTree</td>\n",
       "      <td>0.001955</td>\n",
       "      <td>0.001029</td>\n",
       "      <td>0.869099</td>\n",
       "      <td>0.568224</td>\n",
       "      <td>0.933406</td>\n",
       "      <td>0.557971</td>\n",
       "    </tr>\n",
       "    <tr>\n",
       "      <th>3</th>\n",
       "      <td>RandomForest</td>\n",
       "      <td>0.131532</td>\n",
       "      <td>0.009615</td>\n",
       "      <td>0.976395</td>\n",
       "      <td>0.949861</td>\n",
       "      <td>0.986520</td>\n",
       "      <td>0.920290</td>\n",
       "    </tr>\n",
       "    <tr>\n",
       "      <th>4</th>\n",
       "      <td>ExtraTrees</td>\n",
       "      <td>0.085915</td>\n",
       "      <td>0.010238</td>\n",
       "      <td>0.851931</td>\n",
       "      <td>0.460023</td>\n",
       "      <td>0.425966</td>\n",
       "      <td>0.500000</td>\n",
       "    </tr>\n",
       "    <tr>\n",
       "      <th>5</th>\n",
       "      <td>SGDClassifier</td>\n",
       "      <td>0.002914</td>\n",
       "      <td>0.000890</td>\n",
       "      <td>0.957082</td>\n",
       "      <td>0.909437</td>\n",
       "      <td>0.939200</td>\n",
       "      <td>0.885007</td>\n",
       "    </tr>\n",
       "  </tbody>\n",
       "</table>\n",
       "</div>"
      ],
      "text/plain": [
       "              Learner  Train Time  Pred Time  Acc score  F1 score  Precision  \\\n",
       "0          GaussianNB    0.002272   0.000998   0.959227  0.915621   0.935524   \n",
       "1  LogisticRegression    0.004750   0.001075   0.933476  0.846246   0.924379   \n",
       "2        DecisionTree    0.001955   0.001029   0.869099  0.568224   0.933406   \n",
       "3        RandomForest    0.131532   0.009615   0.976395  0.949861   0.986520   \n",
       "4          ExtraTrees    0.085915   0.010238   0.851931  0.460023   0.425966   \n",
       "5       SGDClassifier    0.002914   0.000890   0.957082  0.909437   0.939200   \n",
       "\n",
       "     Recall  \n",
       "0  0.898240  \n",
       "1  0.799310  \n",
       "2  0.557971  \n",
       "3  0.920290  \n",
       "4  0.500000  \n",
       "5  0.885007  "
      ]
     },
     "execution_count": 94,
     "metadata": {},
     "output_type": "execute_result"
    }
   ],
   "source": [
    "summary"
   ]
  },
  {
   "cell_type": "code",
   "execution_count": 74,
   "id": "c819b713-d765-4336-a4a0-df80c996898f",
   "metadata": {},
   "outputs": [
    {
     "data": {
      "text/html": [
       "<div>\n",
       "<style scoped>\n",
       "    .dataframe tbody tr th:only-of-type {\n",
       "        vertical-align: middle;\n",
       "    }\n",
       "\n",
       "    .dataframe tbody tr th {\n",
       "        vertical-align: top;\n",
       "    }\n",
       "\n",
       "    .dataframe thead th {\n",
       "        text-align: right;\n",
       "    }\n",
       "</style>\n",
       "<table border=\"1\" class=\"dataframe\">\n",
       "  <thead>\n",
       "    <tr style=\"text-align: right;\">\n",
       "      <th></th>\n",
       "      <th>Amount</th>\n",
       "      <th>Month</th>\n",
       "      <th>Status</th>\n",
       "    </tr>\n",
       "  </thead>\n",
       "  <tbody>\n",
       "    <tr>\n",
       "      <th>0</th>\n",
       "      <td>2.600262</td>\n",
       "      <td>1.0</td>\n",
       "      <td>Paid_Reconciled</td>\n",
       "    </tr>\n",
       "    <tr>\n",
       "      <th>1</th>\n",
       "      <td>0.375115</td>\n",
       "      <td>9.0</td>\n",
       "      <td>Paid_Reconciled</td>\n",
       "    </tr>\n",
       "    <tr>\n",
       "      <th>2</th>\n",
       "      <td>0.721760</td>\n",
       "      <td>5.0</td>\n",
       "      <td>Paid_Reconciled</td>\n",
       "    </tr>\n",
       "    <tr>\n",
       "      <th>3</th>\n",
       "      <td>1.465335</td>\n",
       "      <td>5.0</td>\n",
       "      <td>Paid_UnReconciled</td>\n",
       "    </tr>\n",
       "    <tr>\n",
       "      <th>4</th>\n",
       "      <td>1.021399</td>\n",
       "      <td>10.0</td>\n",
       "      <td>Paid_Reconciled</td>\n",
       "    </tr>\n",
       "    <tr>\n",
       "      <th>...</th>\n",
       "      <td>...</td>\n",
       "      <td>...</td>\n",
       "      <td>...</td>\n",
       "    </tr>\n",
       "    <tr>\n",
       "      <th>2495</th>\n",
       "      <td>1.377549</td>\n",
       "      <td>8.0</td>\n",
       "      <td>Paid_Reconciled</td>\n",
       "    </tr>\n",
       "    <tr>\n",
       "      <th>2496</th>\n",
       "      <td>1.399600</td>\n",
       "      <td>6.0</td>\n",
       "      <td>Paid_Reconciled</td>\n",
       "    </tr>\n",
       "    <tr>\n",
       "      <th>2497</th>\n",
       "      <td>4.382105</td>\n",
       "      <td>5.0</td>\n",
       "      <td>Paid_Reconciled</td>\n",
       "    </tr>\n",
       "    <tr>\n",
       "      <th>2498</th>\n",
       "      <td>5.573154</td>\n",
       "      <td>2.0</td>\n",
       "      <td>Paid_UnReconciled</td>\n",
       "    </tr>\n",
       "    <tr>\n",
       "      <th>2499</th>\n",
       "      <td>2.746037</td>\n",
       "      <td>9.0</td>\n",
       "      <td>Paid_Reconciled</td>\n",
       "    </tr>\n",
       "  </tbody>\n",
       "</table>\n",
       "<p>2500 rows × 3 columns</p>\n",
       "</div>"
      ],
      "text/plain": [
       "        Amount  Month             Status\n",
       "0     2.600262    1.0    Paid_Reconciled\n",
       "1     0.375115    9.0    Paid_Reconciled\n",
       "2     0.721760    5.0    Paid_Reconciled\n",
       "3     1.465335    5.0  Paid_UnReconciled\n",
       "4     1.021399   10.0    Paid_Reconciled\n",
       "...        ...    ...                ...\n",
       "2495  1.377549    8.0    Paid_Reconciled\n",
       "2496  1.399600    6.0    Paid_Reconciled\n",
       "2497  4.382105    5.0    Paid_Reconciled\n",
       "2498  5.573154    2.0  Paid_UnReconciled\n",
       "2499  2.746037    9.0    Paid_Reconciled\n",
       "\n",
       "[2500 rows x 3 columns]"
      ]
     },
     "execution_count": 74,
     "metadata": {},
     "output_type": "execute_result"
    }
   ],
   "source": [
    "data[numerical]"
   ]
  },
  {
   "cell_type": "code",
   "execution_count": 50,
   "id": "fb01d729-1139-4f79-9523-47ea48e431e7",
   "metadata": {},
   "outputs": [
    {
     "data": {
      "text/plain": [
       "Amount          0\n",
       "TranNo         44\n",
       "Status         41\n",
       "Department     14\n",
       "Fiscal Year    55\n",
       "Month          22\n",
       "RedFlag         0\n",
       "dtype: int64"
      ]
     },
     "execution_count": 50,
     "metadata": {},
     "output_type": "execute_result"
    }
   ],
   "source": []
  },
  {
   "cell_type": "code",
   "execution_count": null,
   "id": "2927a553-fc63-454c-8653-c1ffa5ae383a",
   "metadata": {},
   "outputs": [],
   "source": [
    "from keras.models impot Sequential\n",
    "from keras.layers import Dense, Activation, LeakyReLU, BatchNormalization\n",
    "from keras import backend\n",
    "from keras.callbacks import TensorBoard\n",
    "from keras.optimizers import Adam\n",
    "import pandas as pd\n",
    "import numpy as np\n",
    "from sklearn.model_selection import train_test_split\n",
    "\n",
    "n_units =400\n",
    "layers = 4\n",
    "n_batch = 4096\n",
    "n_epochs = 10\n",
    "df = pd.read_csv('../option-df-sigma.csv')\n",
    "df = df.dropna(axis=0)\n",
    "df = df.drop(columns=['date', 'exdate', 'impl_volatility', 'volume', 'open_interest'])\n",
    "df.strike_price = df.strike_price / 1000\n",
    "call_df = df[df.cp_flag == 'C'].drop['cp_flag'], axis=1)\n",
    "put_df = df[df.cp_flag == 'P'].drop(['cp_flag'], axis=1)\n",
    "\n",
    "call_X_train, call_X_test, call_y_train, call_y_test = train_test_split(call_df.drop(['best_bid', 'best_offer'], axis=1),\n",
    "                                                                                     0.5*( call_df.best_bid + call_df.best_offer),\n",
    "                                                                                      test_size=0.01, random_state=42)\n",
    "\n",
    "model = Sequential()\n",
    "model.add(Dense(n_units, input_dim=call_X_train.shape[1]))\n",
    "model.add(LeakyReLU())\n",
    "\n",
    "for _ in range(layers - 1):\n",
    "    model.add(Dense(n_units))\n",
    "    model.add(BatchNormalization())\n",
    "    model.add(LeakyReLU())\n",
    "model.add(Dense(1, activation='relu'))\n",
    "model.compile(loss='mse', optimizer=Adam())\n",
    "\n",
    "history = model.fit(call_X_train, call_y_train, batch_size=n_batch,\n",
    "                    epochs=n_epochs, validation_split=0.01,\n",
    "                    callbacks=[TensorBoard()],\n",
    "                    verbose=1)\n",
    "\n",
    "call_y_pred = model.predict(call_X_test)\n",
    "diff = (call_y_test.values - call_y_pred.reshape(call_y_pred.shape[0]))\n",
    "np.mean(np.sqaure(diff))\n",
    "\n",
    "                                                                                      "
   ]
  }
 ],
 "metadata": {
  "kernelspec": {
   "display_name": "Python 3 (ipykernel)",
   "language": "python",
   "name": "python3"
  },
  "language_info": {
   "codemirror_mode": {
    "name": "ipython",
    "version": 3
   },
   "file_extension": ".py",
   "mimetype": "text/x-python",
   "name": "python",
   "nbconvert_exporter": "python",
   "pygments_lexer": "ipython3",
   "version": "3.10.8"
  }
 },
 "nbformat": 4,
 "nbformat_minor": 5
}
