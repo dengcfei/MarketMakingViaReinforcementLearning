{
 "cells": [
  {
   "cell_type": "code",
   "execution_count": 8,
   "id": "00de60e6-9e99-4d24-932f-27d56581110d",
   "metadata": {},
   "outputs": [
    {
     "name": "stdout",
     "output_type": "stream",
     "text": [
      "no_steps = 9\n"
     ]
    }
   ],
   "source": [
    "from sklearn.preprocessing import KBinsDiscretizer\n",
    "import numpy as np\n",
    "import gym\n",
    "import math\n",
    "\n",
    "env= gym.make('CartPole-v1')\n",
    "n_bins  = (6, 12)\n",
    "lower_bounds = [env.observation_space.low[2], -math.radians(50)]\n",
    "upper_bounds = [env.observation_space.high[2], math.radians(50)]\n",
    "est = KBinsDiscretizer(n_bins=n_bins, encode='ordinal', strategy='uniform')\n",
    "est.fit([lower_bounds, upper_bounds])\n",
    "Q_table = np.zeros(n_bins + (env.action_space.n,))\n",
    "done = False\n",
    "lr = 0.1\n",
    "df = 0.9\n",
    "no_steps = 0\n",
    "s = env.reset()\n",
    "s = s[0]\n",
    "fbin = est.transform([[s[2], s[3]]])[0]\n",
    "current_state = (int(fbin[0]), int(fbin[1]))\n",
    "while done == False:\n",
    "    action = np.argmax(Q_table[current_state])\n",
    "    s, reward, done, info, _ = env.step(action)\n",
    "    fbin = est.transform([[s[2],s[3]]])[0]\n",
    "    new_state = (int(fbin[0]), int(fbin[1]))\n",
    "    next_action = np.argmax(Q_table[new_state])\n",
    "    Q_table[current_state][action] = Q_table[current_state][action] + lr * \\\n",
    "    (reward + df * Q_table[new_state][next_action] - Q_table[current_state][action])\n",
    "    current_state = new_state\n",
    "    no_steps = no_steps + 1\n",
    "print(f\"no_steps = {no_steps}\")\n",
    "env.close()"
   ]
  },
  {
   "cell_type": "code",
   "execution_count": null,
   "id": "12e8a9ce-628a-4ea6-9b9e-d495f8e23a62",
   "metadata": {},
   "outputs": [],
   "source": []
  }
 ],
 "metadata": {
  "kernelspec": {
   "display_name": "Python 3 (ipykernel)",
   "language": "python",
   "name": "python3"
  },
  "language_info": {
   "codemirror_mode": {
    "name": "ipython",
    "version": 3
   },
   "file_extension": ".py",
   "mimetype": "text/x-python",
   "name": "python",
   "nbconvert_exporter": "python",
   "pygments_lexer": "ipython3",
   "version": "3.10.8"
  }
 },
 "nbformat": 4,
 "nbformat_minor": 5
}
